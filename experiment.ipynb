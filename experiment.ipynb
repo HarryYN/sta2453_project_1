{
 "cells": [
  {
   "cell_type": "code",
   "execution_count": 9,
   "id": "25e9a636",
   "metadata": {},
   "outputs": [],
   "source": [
    "from keras import models\n",
    "from keras import layers\n",
    "model=models.Sequential()\n",
    "model.add(layers.Dense(32,activation='relu',input_shape=(10,)))\n",
    "model.add(layers.Dense(32,activation='relu'))\n",
    "model.add((layers.Dense(1)))"
   ]
  },
  {
   "cell_type": "code",
   "execution_count": 10,
   "id": "cf0b60a4",
   "metadata": {},
   "outputs": [],
   "source": [
    "model.compile(optimizer='rmsprop',loss='mse',metrics=['mae'])"
   ]
  },
  {
   "cell_type": "code",
   "execution_count": 15,
   "id": "51a07f1c",
   "metadata": {},
   "outputs": [
    {
     "name": "stdout",
     "output_type": "stream",
     "text": [
      "0     0.974915\n",
      "1     0.123475\n",
      "2     0.616337\n",
      "3     0.936382\n",
      "4     0.333680\n",
      "        ...   \n",
      "95    0.428069\n",
      "96    0.303190\n",
      "97    0.976529\n",
      "98    0.472083\n",
      "99    0.321564\n",
      "Name: 0, Length: 100, dtype: float64\n"
     ]
    }
   ],
   "source": [
    "import numpy as np\n",
    "import pandas as pd\n",
    "train=np.random.rand(100,10)\n",
    "tar=np.random.rand(100,1)\n",
    "train=pd.DataFrame(train)\n",
    "tar=pd.DataFrame(tar)\n",
    "print(tar[0])"
   ]
  },
  {
   "cell_type": "code",
   "execution_count": 14,
   "id": "04c15750",
   "metadata": {},
   "outputs": [
    {
     "name": "stdout",
     "output_type": "stream",
     "text": [
      "Epoch 1/10\n",
      "10/10 [==============================] - 0s 1ms/step - loss: 0.0847 - mae: 0.2383\n",
      "Epoch 2/10\n",
      "10/10 [==============================] - 0s 2ms/step - loss: 0.0834 - mae: 0.2396\n",
      "Epoch 3/10\n",
      "10/10 [==============================] - 0s 2ms/step - loss: 0.0818 - mae: 0.2349\n",
      "Epoch 4/10\n",
      "10/10 [==============================] - 0s 2ms/step - loss: 0.0787 - mae: 0.2330\n",
      "Epoch 5/10\n",
      "10/10 [==============================] - 0s 2ms/step - loss: 0.0797 - mae: 0.2333\n",
      "Epoch 6/10\n",
      "10/10 [==============================] - 0s 2ms/step - loss: 0.0798 - mae: 0.2353\n",
      "Epoch 7/10\n",
      "10/10 [==============================] - 0s 2ms/step - loss: 0.0764 - mae: 0.2266\n",
      "Epoch 8/10\n",
      "10/10 [==============================] - 0s 2ms/step - loss: 0.0757 - mae: 0.2262\n",
      "Epoch 9/10\n",
      "10/10 [==============================] - 0s 1ms/step - loss: 0.0746 - mae: 0.2217\n",
      "Epoch 10/10\n",
      "10/10 [==============================] - 0s 2ms/step - loss: 0.0766 - mae: 0.2271\n"
     ]
    }
   ],
   "source": [
    "history=model.fit(train,tar,epochs=10,batch_size=10)"
   ]
  },
  {
   "cell_type": "code",
   "execution_count": null,
   "id": "abc08727",
   "metadata": {},
   "outputs": [],
   "source": []
  }
 ],
 "metadata": {
  "kernelspec": {
   "display_name": "Python 3",
   "language": "python",
   "name": "python3"
  },
  "language_info": {
   "codemirror_mode": {
    "name": "ipython",
    "version": 3
   },
   "file_extension": ".py",
   "mimetype": "text/x-python",
   "name": "python",
   "nbconvert_exporter": "python",
   "pygments_lexer": "ipython3",
   "version": "3.8.8"
  }
 },
 "nbformat": 4,
 "nbformat_minor": 5
}
